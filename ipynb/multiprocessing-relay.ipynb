{
 "cells": [
  {
   "cell_type": "markdown",
   "id": "e9a5b1db",
   "metadata": {
    "collapsed": false
   },
   "source": [
    "# Multiprocessing Relay\n",
    "\n",
    "This notebook explores different relay configurations.\n",
    "We test pipelines with 1-1, 1-n, n-1 and n-m connections.\n"
   ]
  },
  {
   "cell_type": "code",
   "execution_count": 2,
   "id": "0884f772",
   "metadata": {
    "collapsed": false
   },
   "outputs": [],
   "source": [
    "%load_ext autoreload\n",
    "%autoreload 2\n",
    "\n",
    "# setting logger name manually, __name___ is '__main__' in ipynb\n",
    "LOG = 'ktz.ipynb'"
   ]
  },
  {
   "cell_type": "code",
   "execution_count": 3,
   "id": "ab9ddfc7",
   "metadata": {
    "collapsed": false
   },
   "outputs": [
    {
     "name": "stdout",
     "output_type": "stream",
     "text": [
      "[12:55:48] [19715] ktz.ipynb - hello!\n"
     ]
    }
   ],
   "source": [
    "import yaml\n",
    "import logging\n",
    "import logging.config\n",
    "\n",
    "from pprint import pprint\n",
    "\n",
    "def setup_logging():\n",
    "    with open('../conf/logging.yaml', mode='r') as fd:\n",
    "        conf = yaml.safe_load(fd)\n",
    "\n",
    "    conf['handlers']['console']['formatter'] = 'plain'\n",
    "    conf['loggers']['ktz'] = {'handlers': ['console']}\n",
    "    conf['loggers']['root']['level'] = 'DEBUG'\n",
    "\n",
    "    logging.config.dictConfig(conf)\n",
    "    return logging.getLogger(LOG)\n",
    "\n",
    "\n",
    "log = setup_logging()\n",
    "log.info('hello!')"
   ]
  },
  {
   "cell_type": "code",
   "execution_count": 4,
   "id": "e7a08e19",
   "metadata": {
    "collapsed": false
   },
   "outputs": [],
   "source": [
    "import time\n",
    "\n",
    "from ktz.multiprocessing import Actor\n",
    "from ktz.multiprocessing import Relay\n",
    "\n",
    "class Producer(Actor):\n",
    "\n",
    "    def loop(self):\n",
    "        for x in range(3):\n",
    "            self.send(x)\n",
    "\n",
    "\n",
    "class Consumer(Actor):\n",
    "\n",
    "    def recv(self, x):\n",
    "        time.sleep(1)\n",
    "\n",
    "\n",
    "class Worker(Actor):\n",
    "\n",
    "    def recv(self, x):\n",
    "        time.sleep(1)\n",
    "        y = x + 10\n",
    "        self.send(y)"
   ]
  },
  {
   "cell_type": "code",
   "execution_count": 5,
   "id": "ed4b7353",
   "metadata": {
    "collapsed": false
   },
   "outputs": [
    {
     "name": "stdout",
     "output_type": "stream",
     "text": [
      "[12:55:48] [19715] ktz.multiprocessing - relay: maintaining 2 groups\n"
     ]
    },
    {
     "name": "stdout",
     "output_type": "stream",
     "text": [
      "[12:55:48] [19715] ktz.multiprocessing - relay: starting processes\n"
     ]
    },
    {
     "name": "stdout",
     "output_type": "stream",
     "text": [
      "[12:55:48] [19715] ktz.multiprocessing - relay: starting logthread\n"
     ]
    },
    {
     "name": "stdout",
     "output_type": "stream",
     "text": [
      "[12:55:48] [19715] ktz.multiprocessing - relay: waiting for 2 processes to finish\n"
     ]
    },
    {
     "name": "stdout",
     "output_type": "stream",
     "text": [
      "[12:55:48] [19715] ktz.ipynb - [group-0] (Producer-1) starting up\n"
     ]
    },
    {
     "name": "stdout",
     "output_type": "stream",
     "text": [
      "[12:55:48] [19715] ktz.multiprocessing - relay: waiting for Producer-1\n"
     ]
    },
    {
     "name": "stdout",
     "output_type": "stream",
     "text": [
      "[12:55:48] [19715] ktz.ipynb - [group-0] (Producer-1) running loop\n"
     ]
    },
    {
     "name": "stdout",
     "output_type": "stream",
     "text": [
      "[12:55:48] [19715] ktz.multiprocessing - relay: waiting for Consumer-2\n"
     ]
    },
    {
     "name": "stdout",
     "output_type": "stream",
     "text": [
      "[12:55:48] [19715] ktz.ipynb - [group-0] (Producer-1) leaving loop\n"
     ]
    },
    {
     "name": "stdout",
     "output_type": "stream",
     "text": [
      "[12:55:48] [19715] ktz.ipynb - [group-0] (Producer-1) shutting down\n"
     ]
    },
    {
     "name": "stdout",
     "output_type": "stream",
     "text": [
      "[12:55:48] [19715] ktz.ipynb - [group-0] (Producer-1) shut down complete\n"
     ]
    },
    {
     "name": "stdout",
     "output_type": "stream",
     "text": [
      "[12:55:48] [19715] ktz.ipynb - [group-1] (Consumer-2) starting up\n"
     ]
    },
    {
     "name": "stdout",
     "output_type": "stream",
     "text": [
      "[12:55:48] [19715] ktz.ipynb - [group-1] (Consumer-2) running loop\n"
     ]
    },
    {
     "name": "stdout",
     "output_type": "stream",
     "text": [
      "[12:55:51] [19715] ktz.ipynb - [group-1] (Consumer-2) received 1/1 poison pills\n"
     ]
    },
    {
     "name": "stdout",
     "output_type": "stream",
     "text": [
      "[12:55:51] [19715] ktz.ipynb - [group-1] (Consumer-2) leaving loop\n"
     ]
    },
    {
     "name": "stdout",
     "output_type": "stream",
     "text": [
      "[12:55:51] [19715] ktz.ipynb - [group-1] (Consumer-2) shutting down\n"
     ]
    },
    {
     "name": "stdout",
     "output_type": "stream",
     "text": [
      "[12:55:51] [19715] ktz.ipynb - [group-1] (Consumer-2) shut down complete\n"
     ]
    },
    {
     "name": "stdout",
     "output_type": "stream",
     "text": [
      "[12:55:51] [19715] ktz.multiprocessing - relay: waiting for log thread\n"
     ]
    },
    {
     "name": "stdout",
     "output_type": "stream",
     "text": [
      "[12:55:51] [19715] ktz.multiprocessing - relay: finished, exiting\n"
     ]
    }
   ],
   "source": [
    "# 1 - 1\n",
    "relay = Relay(log=LOG)\n",
    "relay.connect(Producer(), Consumer())\n",
    "relay.start()"
   ]
  },
  {
   "cell_type": "code",
   "execution_count": 6,
   "id": "63559550",
   "metadata": {
    "collapsed": false
   },
   "outputs": [
    {
     "name": "stdout",
     "output_type": "stream",
     "text": [
      "[12:55:51] [19715] ktz.multiprocessing - relay: maintaining 2 groups\n"
     ]
    },
    {
     "name": "stdout",
     "output_type": "stream",
     "text": [
      "[12:55:51] [19715] ktz.multiprocessing - relay: starting processes\n"
     ]
    },
    {
     "name": "stdout",
     "output_type": "stream",
     "text": [
      "[12:55:51] [19715] ktz.multiprocessing - relay: starting logthread\n"
     ]
    },
    {
     "name": "stdout",
     "output_type": "stream",
     "text": [
      "[12:55:51] [19715] ktz.ipynb - [group-0] (Producer-3) starting up\n"
     ]
    },
    {
     "name": "stdout",
     "output_type": "stream",
     "text": [
      "[12:55:51] [19715] ktz.multiprocessing - relay: waiting for 6 processes to finish\n"
     ]
    },
    {
     "name": "stdout",
     "output_type": "stream",
     "text": [
      "[12:55:51] [19715] ktz.ipynb - [group-0] (Producer-3) running loop\n"
     ]
    },
    {
     "name": "stdout",
     "output_type": "stream",
     "text": [
      "[12:55:51] [19715] ktz.multiprocessing - relay: waiting for Producer-3\n"
     ]
    },
    {
     "name": "stdout",
     "output_type": "stream",
     "text": [
      "[12:55:51] [19715] ktz.ipynb - [group-0] (Producer-3) leaving loop\n"
     ]
    },
    {
     "name": "stdout",
     "output_type": "stream",
     "text": [
      "[12:55:51] [19715] ktz.multiprocessing - relay: waiting for Consumer-4\n"
     ]
    },
    {
     "name": "stdout",
     "output_type": "stream",
     "text": [
      "[12:55:51] [19715] ktz.ipynb - [group-0] (Producer-3) shutting down\n"
     ]
    },
    {
     "name": "stdout",
     "output_type": "stream",
     "text": [
      "[12:55:51] [19715] ktz.ipynb - [group-0] (Producer-3) shut down complete\n"
     ]
    },
    {
     "name": "stdout",
     "output_type": "stream",
     "text": [
      "[12:55:51] [19715] ktz.ipynb - [group-1] (Consumer-4) starting up\n"
     ]
    },
    {
     "name": "stdout",
     "output_type": "stream",
     "text": [
      "[12:55:51] [19715] ktz.ipynb - [group-1] (Consumer-4) running loop\n"
     ]
    },
    {
     "name": "stdout",
     "output_type": "stream",
     "text": [
      "[12:55:51] [19715] ktz.ipynb - [group-1] (Consumer-5) starting up\n"
     ]
    },
    {
     "name": "stdout",
     "output_type": "stream",
     "text": [
      "[12:55:51] [19715] ktz.ipynb - [group-1] (Consumer-5) running loop\n"
     ]
    },
    {
     "name": "stdout",
     "output_type": "stream",
     "text": [
      "[12:55:51] [19715] ktz.ipynb - [group-1] (Consumer-6) starting up\n"
     ]
    },
    {
     "name": "stdout",
     "output_type": "stream",
     "text": [
      "[12:55:51] [19715] ktz.ipynb - [group-1] (Consumer-6) running loop\n"
     ]
    },
    {
     "name": "stdout",
     "output_type": "stream",
     "text": [
      "[12:55:51] [19715] ktz.ipynb - [group-1] (Consumer-7) starting up\n"
     ]
    },
    {
     "name": "stdout",
     "output_type": "stream",
     "text": [
      "[12:55:51] [19715] ktz.ipynb - [group-1] (Consumer-7) running loop\n"
     ]
    },
    {
     "name": "stdout",
     "output_type": "stream",
     "text": [
      "[12:55:51] [19715] ktz.ipynb - [group-1] (Consumer-7) received 1/1 poison pills\n"
     ]
    },
    {
     "name": "stdout",
     "output_type": "stream",
     "text": [
      "[12:55:51] [19715] ktz.ipynb - [group-1] (Consumer-7) leaving loop\n"
     ]
    },
    {
     "name": "stdout",
     "output_type": "stream",
     "text": [
      "[12:55:51] [19715] ktz.ipynb - [group-1] (Consumer-7) shutting down\n"
     ]
    },
    {
     "name": "stdout",
     "output_type": "stream",
     "text": [
      "[12:55:51] [19715] ktz.ipynb - [group-1] (Consumer-7) shut down complete\n"
     ]
    },
    {
     "name": "stdout",
     "output_type": "stream",
     "text": [
      "[12:55:51] [19715] ktz.ipynb - [group-1] (Consumer-8) starting up\n"
     ]
    },
    {
     "name": "stdout",
     "output_type": "stream",
     "text": [
      "[12:55:51] [19715] ktz.ipynb - [group-1] (Consumer-8) running loop\n"
     ]
    },
    {
     "name": "stdout",
     "output_type": "stream",
     "text": [
      "[12:55:51] [19715] ktz.ipynb - [group-1] (Consumer-8) leaving loop\n"
     ]
    },
    {
     "name": "stdout",
     "output_type": "stream",
     "text": [
      "[12:55:51] [19715] ktz.ipynb - [group-1] (Consumer-8) shutting down\n"
     ]
    },
    {
     "name": "stdout",
     "output_type": "stream",
     "text": [
      "[12:55:51] [19715] ktz.ipynb - [group-1] (Consumer-8) shut down complete\n"
     ]
    },
    {
     "name": "stdout",
     "output_type": "stream",
     "text": [
      "[12:55:52] [19715] ktz.ipynb - [group-1] (Consumer-4) leaving loop\n"
     ]
    },
    {
     "name": "stdout",
     "output_type": "stream",
     "text": [
      "[12:55:52] [19715] ktz.ipynb - [group-1] (Consumer-4) shutting down\n"
     ]
    },
    {
     "name": "stdout",
     "output_type": "stream",
     "text": [
      "[12:55:52] [19715] ktz.ipynb - [group-1] (Consumer-4) shut down complete\n"
     ]
    },
    {
     "name": "stdout",
     "output_type": "stream",
     "text": [
      "[12:55:52] [19715] ktz.multiprocessing - relay: waiting for Consumer-5\n"
     ]
    },
    {
     "name": "stdout",
     "output_type": "stream",
     "text": [
      "[12:55:52] [19715] ktz.ipynb - [group-1] (Consumer-5) leaving loop\n"
     ]
    },
    {
     "name": "stdout",
     "output_type": "stream",
     "text": [
      "[12:55:52] [19715] ktz.multiprocessing - relay: waiting for Consumer-6\n"
     ]
    },
    {
     "name": "stdout",
     "output_type": "stream",
     "text": [
      "[12:55:52] [19715] ktz.ipynb - [group-1] (Consumer-5) shutting down\n"
     ]
    },
    {
     "name": "stdout",
     "output_type": "stream",
     "text": [
      "[12:55:52] [19715] ktz.multiprocessing - relay: waiting for Consumer-7\n"
     ]
    },
    {
     "name": "stdout",
     "output_type": "stream",
     "text": [
      "[12:55:52] [19715] ktz.ipynb - [group-1] (Consumer-5) shut down complete\n"
     ]
    },
    {
     "name": "stdout",
     "output_type": "stream",
     "text": [
      "[12:55:52] [19715] ktz.multiprocessing - relay: waiting for Consumer-8\n"
     ]
    },
    {
     "name": "stdout",
     "output_type": "stream",
     "text": [
      "[12:55:52] [19715] ktz.ipynb - [group-1] (Consumer-6) leaving loop\n"
     ]
    },
    {
     "name": "stdout",
     "output_type": "stream",
     "text": [
      "[12:55:52] [19715] ktz.multiprocessing - relay: waiting for log thread\n"
     ]
    },
    {
     "name": "stdout",
     "output_type": "stream",
     "text": [
      "[12:55:52] [19715] ktz.ipynb - [group-1] (Consumer-6) shutting down\n"
     ]
    },
    {
     "name": "stdout",
     "output_type": "stream",
     "text": [
      "[12:55:52] [19715] ktz.ipynb - [group-1] (Consumer-6) shut down complete\n"
     ]
    },
    {
     "name": "stdout",
     "output_type": "stream",
     "text": [
      "[12:55:52] [19715] ktz.multiprocessing - relay: finished, exiting\n"
     ]
    }
   ],
   "source": [
    "# 1 - n\n",
    "\n",
    "relay = Relay(log=LOG)\n",
    "relay.connect(Producer(), [Consumer() for _ in range(5)])\n",
    "relay.start()"
   ]
  },
  {
   "cell_type": "code",
   "execution_count": 7,
   "id": "15ae5714",
   "metadata": {
    "collapsed": false
   },
   "outputs": [
    {
     "name": "stdout",
     "output_type": "stream",
     "text": [
      "[12:55:52] [19715] ktz.multiprocessing - relay: maintaining 2 groups\n"
     ]
    },
    {
     "name": "stdout",
     "output_type": "stream",
     "text": [
      "[12:55:52] [19715] ktz.multiprocessing - relay: starting processes\n"
     ]
    },
    {
     "name": "stdout",
     "output_type": "stream",
     "text": [
      "[12:55:52] [19715] ktz.multiprocessing - relay: starting logthread\n"
     ]
    },
    {
     "name": "stdout",
     "output_type": "stream",
     "text": [
      "[12:55:52] [19715] ktz.ipynb - [group-0] (Producer-9) starting up\n"
     ]
    },
    {
     "name": "stdout",
     "output_type": "stream",
     "text": [
      "[12:55:52] [19715] ktz.multiprocessing - relay: waiting for 4 processes to finish\n"
     ]
    },
    {
     "name": "stdout",
     "output_type": "stream",
     "text": [
      "[12:55:52] [19715] ktz.ipynb - [group-0] (Producer-9) running loop\n"
     ]
    },
    {
     "name": "stdout",
     "output_type": "stream",
     "text": [
      "[12:55:52] [19715] ktz.multiprocessing - relay: waiting for Producer-9\n"
     ]
    },
    {
     "name": "stdout",
     "output_type": "stream",
     "text": [
      "[12:55:52] [19715] ktz.ipynb - [group-0] (Producer-9) leaving loop\n"
     ]
    },
    {
     "name": "stdout",
     "output_type": "stream",
     "text": [
      "[12:55:52] [19715] ktz.multiprocessing - relay: waiting for Producer-10\n"
     ]
    },
    {
     "name": "stdout",
     "output_type": "stream",
     "text": [
      "[12:55:52] [19715] ktz.ipynb - [group-0] (Producer-9) shutting down\n"
     ]
    },
    {
     "name": "stdout",
     "output_type": "stream",
     "text": [
      "[12:55:52] [19715] ktz.multiprocessing - relay: waiting for Producer-11\n"
     ]
    },
    {
     "name": "stdout",
     "output_type": "stream",
     "text": [
      "[12:55:52] [19715] ktz.ipynb - [group-0] (Producer-9) shut down complete\n"
     ]
    },
    {
     "name": "stdout",
     "output_type": "stream",
     "text": [
      "[12:55:52] [19715] ktz.multiprocessing - relay: waiting for Consumer-12\n"
     ]
    },
    {
     "name": "stdout",
     "output_type": "stream",
     "text": [
      "[12:55:52] [19715] ktz.ipynb - [group-0] (Producer-10) starting up\n"
     ]
    },
    {
     "name": "stdout",
     "output_type": "stream",
     "text": [
      "[12:55:52] [19715] ktz.ipynb - [group-0] (Producer-10) running loop\n"
     ]
    },
    {
     "name": "stdout",
     "output_type": "stream",
     "text": [
      "[12:55:52] [19715] ktz.ipynb - [group-0] (Producer-10) leaving loop\n"
     ]
    },
    {
     "name": "stdout",
     "output_type": "stream",
     "text": [
      "[12:55:52] [19715] ktz.ipynb - [group-0] (Producer-10) shutting down\n"
     ]
    },
    {
     "name": "stdout",
     "output_type": "stream",
     "text": [
      "[12:55:52] [19715] ktz.ipynb - [group-0] (Producer-10) shut down complete\n"
     ]
    },
    {
     "name": "stdout",
     "output_type": "stream",
     "text": [
      "[12:55:52] [19715] ktz.ipynb - [group-0] (Producer-11) starting up\n"
     ]
    },
    {
     "name": "stdout",
     "output_type": "stream",
     "text": [
      "[12:55:52] [19715] ktz.ipynb - [group-0] (Producer-11) running loop\n"
     ]
    },
    {
     "name": "stdout",
     "output_type": "stream",
     "text": [
      "[12:55:52] [19715] ktz.ipynb - [group-0] (Producer-11) leaving loop\n"
     ]
    },
    {
     "name": "stdout",
     "output_type": "stream",
     "text": [
      "[12:55:52] [19715] ktz.ipynb - [group-0] (Producer-11) shutting down\n"
     ]
    },
    {
     "name": "stdout",
     "output_type": "stream",
     "text": [
      "[12:55:52] [19715] ktz.ipynb - [group-0] (Producer-11) shut down complete\n"
     ]
    },
    {
     "name": "stdout",
     "output_type": "stream",
     "text": [
      "[12:55:52] [19715] ktz.ipynb - [group-1] (Consumer-12) starting up\n"
     ]
    },
    {
     "name": "stdout",
     "output_type": "stream",
     "text": [
      "[12:55:52] [19715] ktz.ipynb - [group-1] (Consumer-12) running loop\n"
     ]
    },
    {
     "name": "stdout",
     "output_type": "stream",
     "text": [
      "[12:55:55] [19715] ktz.ipynb - [group-1] (Consumer-12) received 1/3 poison pills\n"
     ]
    },
    {
     "name": "stdout",
     "output_type": "stream",
     "text": [
      "[12:55:58] [19715] ktz.ipynb - [group-1] (Consumer-12) received 2/3 poison pills\n"
     ]
    },
    {
     "name": "stdout",
     "output_type": "stream",
     "text": [
      "[12:56:01] [19715] ktz.ipynb - [group-1] (Consumer-12) received 3/3 poison pills\n"
     ]
    },
    {
     "name": "stdout",
     "output_type": "stream",
     "text": [
      "[12:56:01] [19715] ktz.ipynb - [group-1] (Consumer-12) leaving loop\n"
     ]
    },
    {
     "name": "stdout",
     "output_type": "stream",
     "text": [
      "[12:56:01] [19715] ktz.ipynb - [group-1] (Consumer-12) shutting down\n"
     ]
    },
    {
     "name": "stdout",
     "output_type": "stream",
     "text": [
      "[12:56:01] [19715] ktz.ipynb - [group-1] (Consumer-12) shut down complete\n"
     ]
    },
    {
     "name": "stdout",
     "output_type": "stream",
     "text": [
      "[12:56:01] [19715] ktz.multiprocessing - relay: waiting for log thread\n"
     ]
    },
    {
     "name": "stdout",
     "output_type": "stream",
     "text": [
      "[12:56:01] [19715] ktz.multiprocessing - relay: finished, exiting\n"
     ]
    }
   ],
   "source": [
    "# n - 1\n",
    "relay = Relay(log=LOG)\n",
    "relay.connect([Producer() for _ in range(3)], Consumer())\n",
    "relay.start()\n"
   ]
  },
  {
   "cell_type": "code",
   "execution_count": 8,
   "id": "365090a0",
   "metadata": {
    "collapsed": false
   },
   "outputs": [
    {
     "name": "stdout",
     "output_type": "stream",
     "text": [
      "[12:56:01] [19715] ktz.multiprocessing - relay: maintaining 3 groups\n"
     ]
    },
    {
     "name": "stdout",
     "output_type": "stream",
     "text": [
      "[12:56:01] [19715] ktz.multiprocessing - relay: starting processes\n"
     ]
    },
    {
     "name": "stdout",
     "output_type": "stream",
     "text": [
      "[12:56:01] [19715] ktz.multiprocessing - relay: starting logthread\n"
     ]
    },
    {
     "name": "stdout",
     "output_type": "stream",
     "text": [
      "[12:56:01] [19715] ktz.ipynb - [group-0] (Producer-13) starting up\n"
     ]
    },
    {
     "name": "stdout",
     "output_type": "stream",
     "text": [
      "[12:56:01] [19715] ktz.multiprocessing - relay: waiting for 4 processes to finish\n"
     ]
    },
    {
     "name": "stdout",
     "output_type": "stream",
     "text": [
      "[12:56:01] [19715] ktz.ipynb - [group-0] (Producer-13) running loop\n"
     ]
    },
    {
     "name": "stdout",
     "output_type": "stream",
     "text": [
      "[12:56:01] [19715] ktz.multiprocessing - relay: waiting for Producer-13\n"
     ]
    },
    {
     "name": "stdout",
     "output_type": "stream",
     "text": [
      "[12:56:01] [19715] ktz.ipynb - [group-1] (Worker-14) starting up\n"
     ]
    },
    {
     "name": "stdout",
     "output_type": "stream",
     "text": [
      "[12:56:01] [19715] ktz.multiprocessing - relay: waiting for Worker-14\n"
     ]
    },
    {
     "name": "stdout",
     "output_type": "stream",
     "text": [
      "[12:56:01] [19715] ktz.ipynb - [group-1] (Worker-14) running loop\n"
     ]
    },
    {
     "name": "stdout",
     "output_type": "stream",
     "text": [
      "[12:56:01] [19715] ktz.ipynb - [group-0] (Producer-13) leaving loop\n"
     ]
    },
    {
     "name": "stdout",
     "output_type": "stream",
     "text": [
      "[12:56:01] [19715] ktz.ipynb - [group-1] (Worker-15) starting up\n"
     ]
    },
    {
     "name": "stdout",
     "output_type": "stream",
     "text": [
      "[12:56:01] [19715] ktz.ipynb - [group-1] (Worker-15) running loop\n"
     ]
    },
    {
     "name": "stdout",
     "output_type": "stream",
     "text": [
      "[12:56:01] [19715] ktz.ipynb - [group-0] (Producer-13) shutting down\n"
     ]
    },
    {
     "name": "stdout",
     "output_type": "stream",
     "text": [
      "[12:56:01] [19715] ktz.ipynb - [group-0] (Producer-13) shut down complete\n"
     ]
    },
    {
     "name": "stdout",
     "output_type": "stream",
     "text": [
      "[12:56:01] [19715] ktz.ipynb - [group-2] (Consumer-16) starting up\n"
     ]
    },
    {
     "name": "stdout",
     "output_type": "stream",
     "text": [
      "[12:56:01] [19715] ktz.ipynb - [group-2] (Consumer-16) running loop\n"
     ]
    },
    {
     "name": "stdout",
     "output_type": "stream",
     "text": [
      "[12:56:02] [19715] ktz.ipynb - [group-1] (Worker-15) received 1/1 poison pills\n"
     ]
    },
    {
     "name": "stdout",
     "output_type": "stream",
     "text": [
      "[12:56:02] [19715] ktz.ipynb - [group-1] (Worker-15) leaving loop\n"
     ]
    },
    {
     "name": "stdout",
     "output_type": "stream",
     "text": [
      "[12:56:02] [19715] ktz.ipynb - [group-1] (Worker-15) shutting down\n"
     ]
    },
    {
     "name": "stdout",
     "output_type": "stream",
     "text": [
      "[12:56:02] [19715] ktz.ipynb - [group-1] (Worker-15) shut down complete\n"
     ]
    },
    {
     "name": "stdout",
     "output_type": "stream",
     "text": [
      "[12:56:03] [19715] ktz.ipynb - [group-1] (Worker-14) leaving loop\n"
     ]
    },
    {
     "name": "stdout",
     "output_type": "stream",
     "text": [
      "[12:56:04] [19715] ktz.ipynb - [group-2] (Consumer-16) received 1/2 poison pills\n"
     ]
    },
    {
     "name": "stdout",
     "output_type": "stream",
     "text": [
      "[12:56:04] [19715] ktz.ipynb - [group-1] (Worker-14) shutting down\n"
     ]
    },
    {
     "name": "stdout",
     "output_type": "stream",
     "text": [
      "[12:56:04] [19715] ktz.ipynb - [group-1] (Worker-14) shut down complete\n"
     ]
    },
    {
     "name": "stdout",
     "output_type": "stream",
     "text": [
      "[12:56:04] [19715] ktz.multiprocessing - relay: waiting for Worker-15\n"
     ]
    },
    {
     "name": "stdout",
     "output_type": "stream",
     "text": [
      "[12:56:04] [19715] ktz.multiprocessing - relay: waiting for Consumer-16\n"
     ]
    },
    {
     "name": "stdout",
     "output_type": "stream",
     "text": [
      "[12:56:05] [19715] ktz.ipynb - [group-2] (Consumer-16) received 2/2 poison pills\n"
     ]
    },
    {
     "name": "stdout",
     "output_type": "stream",
     "text": [
      "[12:56:05] [19715] ktz.ipynb - [group-2] (Consumer-16) leaving loop\n"
     ]
    },
    {
     "name": "stdout",
     "output_type": "stream",
     "text": [
      "[12:56:05] [19715] ktz.ipynb - [group-2] (Consumer-16) shutting down\n"
     ]
    },
    {
     "name": "stdout",
     "output_type": "stream",
     "text": [
      "[12:56:05] [19715] ktz.ipynb - [group-2] (Consumer-16) shut down complete\n"
     ]
    },
    {
     "name": "stdout",
     "output_type": "stream",
     "text": [
      "[12:56:05] [19715] ktz.multiprocessing - relay: waiting for log thread\n"
     ]
    },
    {
     "name": "stdout",
     "output_type": "stream",
     "text": [
      "[12:56:05] [19715] ktz.multiprocessing - relay: finished, exiting\n"
     ]
    }
   ],
   "source": [
    "# 1 - n - 1\n",
    "\n",
    "relay = Relay(maxsize=2, log=LOG)\n",
    "relay.connect(\n",
    "    Producer(),\n",
    "    [Worker() for _ in range(2)],\n",
    "    Consumer(),\n",
    ")\n",
    "\n",
    "relay.start()"
   ]
  },
  {
   "cell_type": "code",
   "execution_count": 9,
   "id": "5933a700",
   "metadata": {
    "collapsed": false
   },
   "outputs": [
    {
     "name": "stdout",
     "output_type": "stream",
     "text": [
      "[12:56:05] [19715] ktz.multiprocessing - relay: maintaining 4 groups\n"
     ]
    },
    {
     "name": "stdout",
     "output_type": "stream",
     "text": [
      "[12:56:05] [19715] ktz.multiprocessing - relay: starting processes\n"
     ]
    },
    {
     "name": "stdout",
     "output_type": "stream",
     "text": [
      "[12:56:05] [19715] ktz.multiprocessing - relay: starting logthread\n"
     ]
    },
    {
     "name": "stdout",
     "output_type": "stream",
     "text": [
      "[12:56:05] [19715] ktz.ipynb - [group-0] (Producer-17) starting up\n"
     ]
    },
    {
     "name": "stdout",
     "output_type": "stream",
     "text": [
      "[12:56:05] [19715] ktz.multiprocessing - relay: waiting for 7 processes to finish\n"
     ]
    },
    {
     "name": "stdout",
     "output_type": "stream",
     "text": [
      "[12:56:05] [19715] ktz.ipynb - [group-0] (Producer-17) running loop\n"
     ]
    },
    {
     "name": "stdout",
     "output_type": "stream",
     "text": [
      "[12:56:05] [19715] ktz.multiprocessing - relay: waiting for Producer-17\n"
     ]
    },
    {
     "name": "stdout",
     "output_type": "stream",
     "text": [
      "[12:56:05] [19715] ktz.ipynb - [group-1] (Worker-18) starting up\n"
     ]
    },
    {
     "name": "stdout",
     "output_type": "stream",
     "text": [
      "[12:56:05] [19715] ktz.multiprocessing - relay: waiting for Worker-18\n"
     ]
    },
    {
     "name": "stdout",
     "output_type": "stream",
     "text": [
      "[12:56:05] [19715] ktz.ipynb - [group-1] (Worker-18) running loop\n"
     ]
    },
    {
     "name": "stdout",
     "output_type": "stream",
     "text": [
      "[12:56:05] [19715] ktz.ipynb - [group-0] (Producer-17) leaving loop\n"
     ]
    },
    {
     "name": "stdout",
     "output_type": "stream",
     "text": [
      "[12:56:05] [19715] ktz.ipynb - [group-1] (Worker-19) starting up\n"
     ]
    },
    {
     "name": "stdout",
     "output_type": "stream",
     "text": [
      "[12:56:05] [19715] ktz.ipynb - [group-1] (Worker-19) running loop\n"
     ]
    },
    {
     "name": "stdout",
     "output_type": "stream",
     "text": [
      "[12:56:05] [19715] ktz.ipynb - [group-0] (Producer-17) shutting down\n"
     ]
    },
    {
     "name": "stdout",
     "output_type": "stream",
     "text": [
      "[12:56:05] [19715] ktz.ipynb - [group-0] (Producer-17) shut down complete\n"
     ]
    },
    {
     "name": "stdout",
     "output_type": "stream",
     "text": [
      "[12:56:05] [19715] ktz.ipynb - [group-2] (Worker-20) starting up\n"
     ]
    },
    {
     "name": "stdout",
     "output_type": "stream",
     "text": [
      "[12:56:05] [19715] ktz.ipynb - [group-2] (Worker-20) running loop\n"
     ]
    },
    {
     "name": "stdout",
     "output_type": "stream",
     "text": [
      "[12:56:05] [19715] ktz.ipynb - [group-2] (Worker-21) starting up\n"
     ]
    },
    {
     "name": "stdout",
     "output_type": "stream",
     "text": [
      "[12:56:05] [19715] ktz.ipynb - [group-2] (Worker-21) running loop\n"
     ]
    },
    {
     "name": "stdout",
     "output_type": "stream",
     "text": [
      "[12:56:05] [19715] ktz.ipynb - [group-2] (Worker-22) starting up\n"
     ]
    },
    {
     "name": "stdout",
     "output_type": "stream",
     "text": [
      "[12:56:05] [19715] ktz.ipynb - [group-2] (Worker-22) running loop\n"
     ]
    },
    {
     "name": "stdout",
     "output_type": "stream",
     "text": [
      "[12:56:05] [19715] ktz.ipynb - [group-3] (Consumer-23) starting up\n"
     ]
    },
    {
     "name": "stdout",
     "output_type": "stream",
     "text": [
      "[12:56:05] [19715] ktz.ipynb - [group-3] (Consumer-23) running loop\n"
     ]
    },
    {
     "name": "stdout",
     "output_type": "stream",
     "text": [
      "[12:56:06] [19715] ktz.ipynb - [group-1] (Worker-19) received 1/1 poison pills\n"
     ]
    },
    {
     "name": "stdout",
     "output_type": "stream",
     "text": [
      "[12:56:06] [19715] ktz.ipynb - [group-1] (Worker-19) leaving loop\n"
     ]
    },
    {
     "name": "stdout",
     "output_type": "stream",
     "text": [
      "[12:56:06] [19715] ktz.ipynb - [group-1] (Worker-19) shutting down\n"
     ]
    },
    {
     "name": "stdout",
     "output_type": "stream",
     "text": [
      "[12:56:06] [19715] ktz.ipynb - [group-1] (Worker-19) shut down complete\n"
     ]
    },
    {
     "name": "stdout",
     "output_type": "stream",
     "text": [
      "[12:56:06] [19715] ktz.ipynb - [group-2] (Worker-22) received 1/2 poison pills\n"
     ]
    },
    {
     "name": "stdout",
     "output_type": "stream",
     "text": [
      "[12:56:07] [19715] ktz.ipynb - [group-1] (Worker-18) leaving loop\n"
     ]
    },
    {
     "name": "stdout",
     "output_type": "stream",
     "text": [
      "[12:56:07] [19715] ktz.ipynb - [group-1] (Worker-18) shutting down\n"
     ]
    },
    {
     "name": "stdout",
     "output_type": "stream",
     "text": [
      "[12:56:07] [19715] ktz.ipynb - [group-1] (Worker-18) shut down complete\n"
     ]
    },
    {
     "name": "stdout",
     "output_type": "stream",
     "text": [
      "[12:56:07] [19715] ktz.multiprocessing - relay: waiting for Worker-19\n"
     ]
    },
    {
     "name": "stdout",
     "output_type": "stream",
     "text": [
      "[12:56:07] [19715] ktz.ipynb - [group-2] (Worker-20) received 2/2 poison pills\n"
     ]
    },
    {
     "name": "stdout",
     "output_type": "stream",
     "text": [
      "[12:56:07] [19715] ktz.multiprocessing - relay: waiting for Worker-20\n"
     ]
    },
    {
     "name": "stdout",
     "output_type": "stream",
     "text": [
      "[12:56:07] [19715] ktz.ipynb - [group-2] (Worker-20) leaving loop\n"
     ]
    },
    {
     "name": "stdout",
     "output_type": "stream",
     "text": [
      "[12:56:07] [19715] ktz.ipynb - [group-2] (Worker-21) leaving loop\n"
     ]
    },
    {
     "name": "stdout",
     "output_type": "stream",
     "text": [
      "[12:56:07] [19715] ktz.ipynb - [group-2] (Worker-21) shutting down\n"
     ]
    },
    {
     "name": "stdout",
     "output_type": "stream",
     "text": [
      "[12:56:07] [19715] ktz.ipynb - [group-2] (Worker-21) shut down complete\n"
     ]
    },
    {
     "name": "stdout",
     "output_type": "stream",
     "text": [
      "[12:56:08] [19715] ktz.ipynb - [group-2] (Worker-20) shutting down\n"
     ]
    },
    {
     "name": "stdout",
     "output_type": "stream",
     "text": [
      "[12:56:08] [19715] ktz.ipynb - [group-2] (Worker-20) shut down complete\n"
     ]
    },
    {
     "name": "stdout",
     "output_type": "stream",
     "text": [
      "[12:56:08] [19715] ktz.multiprocessing - relay: waiting for Worker-21\n"
     ]
    },
    {
     "name": "stdout",
     "output_type": "stream",
     "text": [
      "[12:56:08] [19715] ktz.multiprocessing - relay: waiting for Worker-22\n"
     ]
    },
    {
     "name": "stdout",
     "output_type": "stream",
     "text": [
      "[12:56:09] [19715] ktz.ipynb - [group-3] (Consumer-23) received 1/3 poison pills\n"
     ]
    },
    {
     "name": "stdout",
     "output_type": "stream",
     "text": [
      "[12:56:09] [19715] ktz.ipynb - [group-3] (Consumer-23) received 2/3 poison pills\n"
     ]
    },
    {
     "name": "stdout",
     "output_type": "stream",
     "text": [
      "[12:56:09] [19715] ktz.ipynb - [group-2] (Worker-22) leaving loop\n"
     ]
    },
    {
     "name": "stdout",
     "output_type": "stream",
     "text": [
      "[12:56:09] [19715] ktz.ipynb - [group-2] (Worker-22) shutting down\n"
     ]
    },
    {
     "name": "stdout",
     "output_type": "stream",
     "text": [
      "[12:56:09] [19715] ktz.ipynb - [group-2] (Worker-22) shut down complete\n"
     ]
    },
    {
     "name": "stdout",
     "output_type": "stream",
     "text": [
      "[12:56:09] [19715] ktz.multiprocessing - relay: waiting for Consumer-23\n"
     ]
    },
    {
     "name": "stdout",
     "output_type": "stream",
     "text": [
      "[12:56:10] [19715] ktz.ipynb - [group-3] (Consumer-23) received 3/3 poison pills\n"
     ]
    },
    {
     "name": "stdout",
     "output_type": "stream",
     "text": [
      "[12:56:10] [19715] ktz.ipynb - [group-3] (Consumer-23) leaving loop\n"
     ]
    },
    {
     "name": "stdout",
     "output_type": "stream",
     "text": [
      "[12:56:10] [19715] ktz.ipynb - [group-3] (Consumer-23) shutting down\n"
     ]
    },
    {
     "name": "stdout",
     "output_type": "stream",
     "text": [
      "[12:56:10] [19715] ktz.ipynb - [group-3] (Consumer-23) shut down complete\n"
     ]
    },
    {
     "name": "stdout",
     "output_type": "stream",
     "text": [
      "[12:56:10] [19715] ktz.multiprocessing - relay: waiting for log thread\n"
     ]
    },
    {
     "name": "stdout",
     "output_type": "stream",
     "text": [
      "[12:56:10] [19715] ktz.multiprocessing - relay: finished, exiting\n"
     ]
    }
   ],
   "source": [
    "# 1 - n - m - 1\n",
    "\n",
    "relay = Relay(maxsize=2, log=LOG)\n",
    "relay.connect(\n",
    "    Producer(),\n",
    "    [Worker() for _ in range(2)],\n",
    "    [Worker() for _ in range(3)],\n",
    "    Consumer(),\n",
    ")\n",
    "\n",
    "relay.start()"
   ]
  }
 ],
 "metadata": {
  "kernelspec": {
   "argv": [
    "python",
    "-m",
    "ipykernel_launcher",
    "-f",
    "{connection_file}"
   ],
   "display_name": "Python 3 (ipykernel)",
   "env": null,
   "interrupt_mode": "signal",
   "language": "python",
   "metadata": {
    "debugger": true
   },
   "name": "python3"
  },
  "name": "multiprocessing-relay.ipynb"
 },
 "nbformat": 4,
 "nbformat_minor": 5
}
