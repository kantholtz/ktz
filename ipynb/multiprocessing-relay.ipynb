{
 "cells": [
  {
   "cell_type": "code",
   "execution_count": 1,
   "id": "531b4f3a",
   "metadata": {
    "collapsed": false
   },
   "outputs": [],
   "source": [
    "%load_ext autoreload\n",
    "%autoreload 2\n",
    "\n",
    "# setting logger name manually, __name___ is '__main__' in ipynb\n",
    "LOG = 'ktz.ipynb'"
   ]
  },
  {
   "cell_type": "code",
   "execution_count": 2,
   "id": "32f1b78e",
   "metadata": {
    "collapsed": false
   },
   "outputs": [
    {
     "name": "stdout",
     "output_type": "stream",
     "text": [
      "[16:03:03] ktz.ipynb - hello!\n"
     ]
    }
   ],
   "source": [
    "import yaml\n",
    "import logging\n",
    "import logging.config\n",
    "\n",
    "from pprint import pprint\n",
    "\n",
    "def setup_logging():\n",
    "    with open('../conf/logging.yaml', mode='r') as fd:\n",
    "        conf = yaml.safe_load(fd)\n",
    "\n",
    "    conf['handlers']['console']['formatter'] = 'plain'\n",
    "    conf['loggers']['ktz'] = {'handlers': ['console']}\n",
    "    conf['loggers']['root']['level'] = 'DEBUG'\n",
    "\n",
    "    logging.config.dictConfig(conf)\n",
    "    return logging.getLogger(LOG)\n",
    "\n",
    "\n",
    "log = setup_logging()\n",
    "log.info('hello!')"
   ]
  },
  {
   "cell_type": "code",
   "execution_count": 3,
   "id": "15583abf",
   "metadata": {
    "collapsed": false
   },
   "outputs": [],
   "source": [
    "import time\n",
    "\n",
    "from ktz.multiprocessing import Actor\n",
    "from ktz.multiprocessing import Relay\n",
    "\n",
    "class Producer(Actor):\n",
    "\n",
    "    def loop(self):\n",
    "        for x in range(3):\n",
    "            self.send(x)\n",
    "\n",
    "\n",
    "class Consumer(Actor):\n",
    "\n",
    "    def recv(self, x):\n",
    "        time.sleep(1)\n",
    "\n",
    "\n",
    "class Worker(Actor):\n",
    "\n",
    "    def recv(self, x):\n",
    "        time.sleep(1)\n",
    "        y = x + 10\n",
    "        self.send(y)"
   ]
  },
  {
   "cell_type": "code",
   "execution_count": 8,
   "id": "453511f4",
   "metadata": {
    "collapsed": false
   },
   "outputs": [
    {
     "name": "stdout",
     "output_type": "stream",
     "text": [
      "[16:07:08] ktz.multiprocessing - relay: maintaining 2 groups\n"
     ]
    },
    {
     "name": "stdout",
     "output_type": "stream",
     "text": [
      "[16:07:08] ktz.multiprocessing - relay: starting logthread\n"
     ]
    },
    {
     "name": "stdout",
     "output_type": "stream",
     "text": [
      "[16:07:08] ktz.multiprocessing - relay: starting processes\n"
     ]
    },
    {
     "name": "stdout",
     "output_type": "stream",
     "text": [
      "[16:07:08] ktz.ipynb - [group-0] (Producer-9) starting up\n"
     ]
    },
    {
     "name": "stdout",
     "output_type": "stream",
     "text": [
      "[16:07:08] ktz.multiprocessing - relay: waiting for 2 processes to finish\n"
     ]
    },
    {
     "name": "stdout",
     "output_type": "stream",
     "text": [
      "[16:07:08] ktz.ipynb - [group-0] (Producer-9) running loop\n"
     ]
    },
    {
     "name": "stdout",
     "output_type": "stream",
     "text": [
      "[16:07:08] ktz.ipynb - [group-0] (Producer-9) leaving loop\n"
     ]
    },
    {
     "name": "stdout",
     "output_type": "stream",
     "text": [
      "[16:07:08] ktz.ipynb - [group-0] (Producer-9) shutting down\n"
     ]
    },
    {
     "name": "stdout",
     "output_type": "stream",
     "text": [
      "[16:07:08] ktz.ipynb - [group-0] (Producer-9) shut down complete\n"
     ]
    },
    {
     "name": "stdout",
     "output_type": "stream",
     "text": [
      "[16:07:08] ktz.ipynb - [group-1] (Consumer-10) starting up\n"
     ]
    },
    {
     "name": "stdout",
     "output_type": "stream",
     "text": [
      "[16:07:08] ktz.ipynb - [group-1] (Consumer-10) running loop\n"
     ]
    },
    {
     "name": "stdout",
     "output_type": "stream",
     "text": [
      "[16:07:11] ktz.ipynb - [group-1] (Consumer-10) received 1/1 poison pills\n"
     ]
    },
    {
     "name": "stdout",
     "output_type": "stream",
     "text": [
      "[16:07:11] ktz.ipynb - [group-1] (Consumer-10) leaving loop\n"
     ]
    },
    {
     "name": "stdout",
     "output_type": "stream",
     "text": [
      "[16:07:11] ktz.ipynb - [group-1] (Consumer-10) shutting down\n"
     ]
    },
    {
     "name": "stdout",
     "output_type": "stream",
     "text": [
      "[16:07:11] ktz.ipynb - [group-1] (Consumer-10) shut down complete\n"
     ]
    },
    {
     "name": "stdout",
     "output_type": "stream",
     "text": [
      "[16:07:11] ktz.multiprocessing - relay: all processes finished\n"
     ]
    },
    {
     "name": "stdout",
     "output_type": "stream",
     "text": [
      "[16:07:11] ktz.multiprocessing - relay: waiting for log thread\n"
     ]
    },
    {
     "name": "stdout",
     "output_type": "stream",
     "text": [
      "[16:07:11] ktz.multiprocessing - relay: log thread finished\n"
     ]
    }
   ],
   "source": [
    "# 1 - 1\n",
    "relay = Relay(log=LOG)\n",
    "relay.connect(Producer(), Consumer())\n",
    "relay.start()"
   ]
  },
  {
   "cell_type": "code",
   "execution_count": 9,
   "id": "74b78d47",
   "metadata": {
    "collapsed": false
   },
   "outputs": [
    {
     "name": "stdout",
     "output_type": "stream",
     "text": [
      "[16:07:17] ktz.multiprocessing - relay: maintaining 2 groups\n"
     ]
    },
    {
     "name": "stdout",
     "output_type": "stream",
     "text": [
      "[16:07:17] ktz.multiprocessing - relay: starting logthread\n"
     ]
    },
    {
     "name": "stdout",
     "output_type": "stream",
     "text": [
      "[16:07:17] ktz.multiprocessing - relay: starting processes\n"
     ]
    },
    {
     "name": "stdout",
     "output_type": "stream",
     "text": [
      "[16:07:17] ktz.ipynb - [group-0] (Producer-11) starting up\n"
     ]
    },
    {
     "name": "stdout",
     "output_type": "stream",
     "text": [
      "[16:07:17] ktz.ipynb - [group-0] (Producer-11) running loop\n"
     ]
    },
    {
     "name": "stdout",
     "output_type": "stream",
     "text": [
      "[16:07:17] ktz.ipynb - [group-0] (Producer-11) leaving loop\n"
     ]
    },
    {
     "name": "stdout",
     "output_type": "stream",
     "text": [
      "[16:07:17] ktz.ipynb - [group-0] (Producer-11) shutting down\n"
     ]
    },
    {
     "name": "stdout",
     "output_type": "stream",
     "text": [
      "[16:07:17] ktz.ipynb - [group-0] (Producer-11) shut down complete\n"
     ]
    },
    {
     "name": "stdout",
     "output_type": "stream",
     "text": [
      "[16:07:17] ktz.ipynb - [group-1] (Consumer-12) starting up\n"
     ]
    },
    {
     "name": "stdout",
     "output_type": "stream",
     "text": [
      "[16:07:17] ktz.ipynb - [group-1] (Consumer-12) running loop\n"
     ]
    },
    {
     "name": "stdout",
     "output_type": "stream",
     "text": [
      "[16:07:17] ktz.ipynb - [group-1] (Consumer-13) starting up\n"
     ]
    },
    {
     "name": "stdout",
     "output_type": "stream",
     "text": [
      "[16:07:17] ktz.ipynb - [group-1] (Consumer-13) running loop\n"
     ]
    },
    {
     "name": "stdout",
     "output_type": "stream",
     "text": [
      "[16:07:17] ktz.ipynb - [group-1] (Consumer-14) starting up\n"
     ]
    },
    {
     "name": "stdout",
     "output_type": "stream",
     "text": [
      "[16:07:17] ktz.ipynb - [group-1] (Consumer-14) running loop\n"
     ]
    },
    {
     "name": "stdout",
     "output_type": "stream",
     "text": [
      "[16:07:17] ktz.ipynb - [group-1] (Consumer-15) starting up\n"
     ]
    },
    {
     "name": "stdout",
     "output_type": "stream",
     "text": [
      "[16:07:17] ktz.multiprocessing - relay: waiting for 6 processes to finish\n"
     ]
    },
    {
     "name": "stdout",
     "output_type": "stream",
     "text": [
      "[16:07:17] ktz.ipynb - [group-1] (Consumer-15) running loop\n"
     ]
    },
    {
     "name": "stdout",
     "output_type": "stream",
     "text": [
      "[16:07:17] ktz.ipynb - [group-1] (Consumer-15) received 1/1 poison pills\n"
     ]
    },
    {
     "name": "stdout",
     "output_type": "stream",
     "text": [
      "[16:07:17] ktz.ipynb - [group-1] (Consumer-15) leaving loop\n"
     ]
    },
    {
     "name": "stdout",
     "output_type": "stream",
     "text": [
      "[16:07:17] ktz.ipynb - [group-1] (Consumer-15) shutting down\n"
     ]
    },
    {
     "name": "stdout",
     "output_type": "stream",
     "text": [
      "[16:07:17] ktz.ipynb - [group-1] (Consumer-15) shut down complete\n"
     ]
    },
    {
     "name": "stdout",
     "output_type": "stream",
     "text": [
      "[16:07:17] ktz.ipynb - [group-1] (Consumer-16) starting up\n"
     ]
    },
    {
     "name": "stdout",
     "output_type": "stream",
     "text": [
      "[16:07:17] ktz.ipynb - [group-1] (Consumer-16) running loop\n"
     ]
    },
    {
     "name": "stdout",
     "output_type": "stream",
     "text": [
      "[16:07:17] ktz.ipynb - [group-1] (Consumer-16) leaving loop\n"
     ]
    },
    {
     "name": "stdout",
     "output_type": "stream",
     "text": [
      "[16:07:17] ktz.ipynb - [group-1] (Consumer-16) shutting down\n"
     ]
    },
    {
     "name": "stdout",
     "output_type": "stream",
     "text": [
      "[16:07:17] ktz.ipynb - [group-1] (Consumer-16) shut down complete\n"
     ]
    },
    {
     "name": "stdout",
     "output_type": "stream",
     "text": [
      "[16:07:18] ktz.ipynb - [group-1] (Consumer-12) leaving loop\n"
     ]
    },
    {
     "name": "stdout",
     "output_type": "stream",
     "text": [
      "[16:07:18] ktz.ipynb - [group-1] (Consumer-12) shutting down\n"
     ]
    },
    {
     "name": "stdout",
     "output_type": "stream",
     "text": [
      "[16:07:18] ktz.ipynb - [group-1] (Consumer-12) shut down complete\n"
     ]
    },
    {
     "name": "stdout",
     "output_type": "stream",
     "text": [
      "[16:07:18] ktz.ipynb - [group-1] (Consumer-13) leaving loop\n"
     ]
    },
    {
     "name": "stdout",
     "output_type": "stream",
     "text": [
      "[16:07:18] ktz.ipynb - [group-1] (Consumer-13) shutting down\n"
     ]
    },
    {
     "name": "stdout",
     "output_type": "stream",
     "text": [
      "[16:07:18] ktz.ipynb - [group-1] (Consumer-13) shut down complete\n"
     ]
    },
    {
     "name": "stdout",
     "output_type": "stream",
     "text": [
      "[16:07:18] ktz.ipynb - [group-1] (Consumer-14) leaving loop\n"
     ]
    },
    {
     "name": "stdout",
     "output_type": "stream",
     "text": [
      "[16:07:18] ktz.ipynb - [group-1] (Consumer-14) shutting down\n"
     ]
    },
    {
     "name": "stdout",
     "output_type": "stream",
     "text": [
      "[16:07:18] ktz.ipynb - [group-1] (Consumer-14) shut down complete\n"
     ]
    },
    {
     "name": "stdout",
     "output_type": "stream",
     "text": [
      "[16:07:18] ktz.multiprocessing - relay: all processes finished\n"
     ]
    },
    {
     "name": "stdout",
     "output_type": "stream",
     "text": [
      "[16:07:18] ktz.multiprocessing - relay: waiting for log thread\n"
     ]
    },
    {
     "name": "stdout",
     "output_type": "stream",
     "text": [
      "[16:07:18] ktz.multiprocessing - relay: log thread finished\n"
     ]
    }
   ],
   "source": [
    "# 1 - n\n",
    "\n",
    "relay = Relay(log=LOG)\n",
    "relay.connect(Producer(), [Consumer() for _ in range(5)])\n",
    "relay.start()"
   ]
  },
  {
   "cell_type": "code",
   "execution_count": 10,
   "id": "fec76bb1",
   "metadata": {
    "collapsed": false
   },
   "outputs": [
    {
     "name": "stdout",
     "output_type": "stream",
     "text": [
      "[16:07:45] ktz.multiprocessing - relay: maintaining 2 groups\n"
     ]
    },
    {
     "name": "stdout",
     "output_type": "stream",
     "text": [
      "[16:07:45] ktz.multiprocessing - relay: starting logthread\n"
     ]
    },
    {
     "name": "stdout",
     "output_type": "stream",
     "text": [
      "[16:07:45] ktz.multiprocessing - relay: starting processes\n"
     ]
    },
    {
     "name": "stdout",
     "output_type": "stream",
     "text": [
      "[16:07:45] ktz.ipynb - [group-0] (Producer-17) starting up\n"
     ]
    },
    {
     "name": "stdout",
     "output_type": "stream",
     "text": [
      "[16:07:45] ktz.ipynb - [group-0] (Producer-17) running loop\n"
     ]
    },
    {
     "name": "stdout",
     "output_type": "stream",
     "text": [
      "[16:07:45] ktz.ipynb - [group-0] (Producer-17) leaving loop\n"
     ]
    },
    {
     "name": "stdout",
     "output_type": "stream",
     "text": [
      "[16:07:45] ktz.ipynb - [group-0] (Producer-17) shutting down\n"
     ]
    },
    {
     "name": "stdout",
     "output_type": "stream",
     "text": [
      "[16:07:45] ktz.ipynb - [group-0] (Producer-17) shut down complete\n"
     ]
    },
    {
     "name": "stdout",
     "output_type": "stream",
     "text": [
      "[16:07:45] ktz.ipynb - [group-0] (Producer-18) starting up\n"
     ]
    },
    {
     "name": "stdout",
     "output_type": "stream",
     "text": [
      "[16:07:45] ktz.ipynb - [group-0] (Producer-18) running loop\n"
     ]
    },
    {
     "name": "stdout",
     "output_type": "stream",
     "text": [
      "[16:07:45] ktz.multiprocessing - relay: waiting for 4 processes to finish\n"
     ]
    },
    {
     "name": "stdout",
     "output_type": "stream",
     "text": [
      "[16:07:45] ktz.ipynb - [group-0] (Producer-18) leaving loop\n"
     ]
    },
    {
     "name": "stdout",
     "output_type": "stream",
     "text": [
      "[16:07:45] ktz.ipynb - [group-0] (Producer-18) shutting down\n"
     ]
    },
    {
     "name": "stdout",
     "output_type": "stream",
     "text": [
      "[16:07:45] ktz.ipynb - [group-0] (Producer-18) shut down complete\n"
     ]
    },
    {
     "name": "stdout",
     "output_type": "stream",
     "text": [
      "[16:07:45] ktz.ipynb - [group-0] (Producer-19) starting up\n"
     ]
    },
    {
     "name": "stdout",
     "output_type": "stream",
     "text": [
      "[16:07:45] ktz.ipynb - [group-0] (Producer-19) running loop\n"
     ]
    },
    {
     "name": "stdout",
     "output_type": "stream",
     "text": [
      "[16:07:45] ktz.ipynb - [group-0] (Producer-19) leaving loop\n"
     ]
    },
    {
     "name": "stdout",
     "output_type": "stream",
     "text": [
      "[16:07:45] ktz.ipynb - [group-0] (Producer-19) shutting down\n"
     ]
    },
    {
     "name": "stdout",
     "output_type": "stream",
     "text": [
      "[16:07:45] ktz.ipynb - [group-0] (Producer-19) shut down complete\n"
     ]
    },
    {
     "name": "stdout",
     "output_type": "stream",
     "text": [
      "[16:07:45] ktz.ipynb - [group-1] (Consumer-20) starting up\n"
     ]
    },
    {
     "name": "stdout",
     "output_type": "stream",
     "text": [
      "[16:07:45] ktz.ipynb - [group-1] (Consumer-20) running loop\n"
     ]
    },
    {
     "name": "stdout",
     "output_type": "stream",
     "text": [
      "[16:07:48] ktz.ipynb - [group-1] (Consumer-20) received 1/3 poison pills\n"
     ]
    },
    {
     "name": "stdout",
     "output_type": "stream",
     "text": [
      "[16:07:51] ktz.ipynb - [group-1] (Consumer-20) received 2/3 poison pills\n"
     ]
    },
    {
     "name": "stdout",
     "output_type": "stream",
     "text": [
      "[16:07:54] ktz.ipynb - [group-1] (Consumer-20) received 3/3 poison pills\n"
     ]
    },
    {
     "name": "stdout",
     "output_type": "stream",
     "text": [
      "[16:07:54] ktz.ipynb - [group-1] (Consumer-20) leaving loop\n"
     ]
    },
    {
     "name": "stdout",
     "output_type": "stream",
     "text": [
      "[16:07:54] ktz.ipynb - [group-1] (Consumer-20) shutting down\n"
     ]
    },
    {
     "name": "stdout",
     "output_type": "stream",
     "text": [
      "[16:07:54] ktz.ipynb - [group-1] (Consumer-20) shut down complete\n"
     ]
    },
    {
     "name": "stdout",
     "output_type": "stream",
     "text": [
      "[16:07:54] ktz.multiprocessing - relay: all processes finished\n"
     ]
    },
    {
     "name": "stdout",
     "output_type": "stream",
     "text": [
      "[16:07:54] ktz.multiprocessing - relay: waiting for log thread\n"
     ]
    },
    {
     "name": "stdout",
     "output_type": "stream",
     "text": [
      "[16:07:54] ktz.multiprocessing - relay: log thread finished\n"
     ]
    }
   ],
   "source": [
    "# n - 1\n",
    "relay = Relay(log=LOG)\n",
    "relay.connect([Producer() for _ in range(3)], Consumer())\n",
    "relay.start()\n"
   ]
  },
  {
   "cell_type": "code",
   "execution_count": 12,
   "id": "6670e032",
   "metadata": {
    "collapsed": false
   },
   "outputs": [
    {
     "name": "stdout",
     "output_type": "stream",
     "text": [
      "[16:08:14] ktz.multiprocessing - relay: maintaining 3 groups\n"
     ]
    },
    {
     "name": "stdout",
     "output_type": "stream",
     "text": [
      "[16:08:14] ktz.multiprocessing - relay: starting logthread\n"
     ]
    },
    {
     "name": "stdout",
     "output_type": "stream",
     "text": [
      "[16:08:14] ktz.multiprocessing - relay: starting processes\n"
     ]
    },
    {
     "name": "stdout",
     "output_type": "stream",
     "text": [
      "[16:08:14] ktz.ipynb - [group-0] (Producer-25) starting up\n"
     ]
    },
    {
     "name": "stdout",
     "output_type": "stream",
     "text": [
      "[16:08:14] ktz.ipynb - [group-0] (Producer-25) running loop\n"
     ]
    },
    {
     "name": "stdout",
     "output_type": "stream",
     "text": [
      "[16:08:14] ktz.ipynb - [group-1] (Worker-26) starting up\n"
     ]
    },
    {
     "name": "stdout",
     "output_type": "stream",
     "text": [
      "[16:08:14] ktz.ipynb - [group-1] (Worker-26) running loop\n"
     ]
    },
    {
     "name": "stdout",
     "output_type": "stream",
     "text": [
      "[16:08:14] ktz.ipynb - [group-0] (Producer-25) leaving loop\n"
     ]
    },
    {
     "name": "stdout",
     "output_type": "stream",
     "text": [
      "[16:08:14] ktz.ipynb - [group-1] (Worker-27) starting up\n"
     ]
    },
    {
     "name": "stdout",
     "output_type": "stream",
     "text": [
      "[16:08:14] ktz.multiprocessing - relay: waiting for 4 processes to finish\n"
     ]
    },
    {
     "name": "stdout",
     "output_type": "stream",
     "text": [
      "[16:08:14] ktz.ipynb - [group-1] (Worker-27) running loop\n"
     ]
    },
    {
     "name": "stdout",
     "output_type": "stream",
     "text": [
      "[16:08:14] ktz.ipynb - [group-0] (Producer-25) shutting down\n"
     ]
    },
    {
     "name": "stdout",
     "output_type": "stream",
     "text": [
      "[16:08:14] ktz.ipynb - [group-0] (Producer-25) shut down complete\n"
     ]
    },
    {
     "name": "stdout",
     "output_type": "stream",
     "text": [
      "[16:08:14] ktz.ipynb - [group-2] (Consumer-28) starting up\n"
     ]
    },
    {
     "name": "stdout",
     "output_type": "stream",
     "text": [
      "[16:08:14] ktz.ipynb - [group-2] (Consumer-28) running loop\n"
     ]
    },
    {
     "name": "stdout",
     "output_type": "stream",
     "text": [
      "[16:08:15] ktz.ipynb - [group-1] (Worker-27) received 1/1 poison pills\n"
     ]
    },
    {
     "name": "stdout",
     "output_type": "stream",
     "text": [
      "[16:08:15] ktz.ipynb - [group-1] (Worker-27) leaving loop\n"
     ]
    },
    {
     "name": "stdout",
     "output_type": "stream",
     "text": [
      "[16:08:15] ktz.ipynb - [group-1] (Worker-27) shutting down\n"
     ]
    },
    {
     "name": "stdout",
     "output_type": "stream",
     "text": [
      "[16:08:15] ktz.ipynb - [group-1] (Worker-27) shut down complete\n"
     ]
    },
    {
     "name": "stdout",
     "output_type": "stream",
     "text": [
      "[16:08:14] ktz.ipynb - [group-1] (Worker-26) starting up\n"
     ]
    },
    {
     "name": "stdout",
     "output_type": "stream",
     "text": [
      "[16:08:16] ktz.ipynb - [group-1] (Worker-26) leaving loop\n"
     ]
    },
    {
     "name": "stdout",
     "output_type": "stream",
     "text": [
      "[16:08:17] ktz.ipynb - [group-2] (Consumer-28) received 1/2 poison pills\n"
     ]
    },
    {
     "name": "stdout",
     "output_type": "stream",
     "text": [
      "[16:08:17] ktz.ipynb - [group-1] (Worker-26) shutting down\n"
     ]
    },
    {
     "name": "stdout",
     "output_type": "stream",
     "text": [
      "[16:08:17] ktz.ipynb - [group-1] (Worker-26) shut down complete\n"
     ]
    },
    {
     "name": "stdout",
     "output_type": "stream",
     "text": [
      "[16:08:18] ktz.ipynb - [group-2] (Consumer-28) received 2/2 poison pills\n"
     ]
    },
    {
     "name": "stdout",
     "output_type": "stream",
     "text": [
      "[16:08:18] ktz.ipynb - [group-2] (Consumer-28) leaving loop\n"
     ]
    },
    {
     "name": "stdout",
     "output_type": "stream",
     "text": [
      "[16:08:18] ktz.ipynb - [group-2] (Consumer-28) shutting down\n"
     ]
    },
    {
     "name": "stdout",
     "output_type": "stream",
     "text": [
      "[16:08:18] ktz.ipynb - [group-2] (Consumer-28) shut down complete\n"
     ]
    },
    {
     "name": "stdout",
     "output_type": "stream",
     "text": [
      "[16:08:18] ktz.multiprocessing - relay: all processes finished\n"
     ]
    },
    {
     "name": "stdout",
     "output_type": "stream",
     "text": [
      "[16:08:18] ktz.multiprocessing - relay: waiting for log thread\n"
     ]
    },
    {
     "name": "stdout",
     "output_type": "stream",
     "text": [
      "[16:08:18] ktz.multiprocessing - relay: log thread finished\n"
     ]
    }
   ],
   "source": [
    "# 1 - n - 1\n",
    "\n",
    "relay = Relay(maxsize=2, log=LOG)\n",
    "relay.connect(\n",
    "    Producer(),\n",
    "    [Worker() for _ in range(2)],\n",
    "    Consumer(),\n",
    ")\n",
    "\n",
    "relay.start()"
   ]
  },
  {
   "cell_type": "code",
   "execution_count": 19,
   "id": "f4eb4795",
   "metadata": {
    "collapsed": false
   },
   "outputs": [
    {
     "name": "stdout",
     "output_type": "stream",
     "text": [
      "[16:16:49] ktz.multiprocessing - relay: maintaining 4 groups\n"
     ]
    },
    {
     "name": "stdout",
     "output_type": "stream",
     "text": [
      "[16:16:49] ktz.multiprocessing - relay: starting logthread\n"
     ]
    },
    {
     "name": "stdout",
     "output_type": "stream",
     "text": [
      "[16:16:49] ktz.multiprocessing - relay: starting processes\n"
     ]
    },
    {
     "name": "stdout",
     "output_type": "stream",
     "text": [
      "[16:16:49] ktz.ipynb - [group-0] (Producer-85) starting up\n"
     ]
    },
    {
     "name": "stdout",
     "output_type": "stream",
     "text": [
      "[16:16:49] ktz.ipynb - [group-0] (Producer-85) running loop\n"
     ]
    },
    {
     "name": "stdout",
     "output_type": "stream",
     "text": [
      "[16:16:49] ktz.ipynb - [group-1] (Worker-86) starting up\n"
     ]
    },
    {
     "name": "stdout",
     "output_type": "stream",
     "text": [
      "[16:16:49] ktz.ipynb - [group-1] (Worker-86) running loop\n"
     ]
    },
    {
     "name": "stdout",
     "output_type": "stream",
     "text": [
      "[16:16:49] ktz.ipynb - [group-0] (Producer-85) leaving loop\n"
     ]
    },
    {
     "name": "stdout",
     "output_type": "stream",
     "text": [
      "[16:16:49] ktz.ipynb - [group-1] (Worker-87) starting up\n"
     ]
    },
    {
     "name": "stdout",
     "output_type": "stream",
     "text": [
      "[16:16:49] ktz.ipynb - [group-1] (Worker-87) running loop\n"
     ]
    },
    {
     "name": "stdout",
     "output_type": "stream",
     "text": [
      "[16:16:49] ktz.ipynb - [group-0] (Producer-85) shutting down\n"
     ]
    },
    {
     "name": "stdout",
     "output_type": "stream",
     "text": [
      "[16:16:49] ktz.ipynb - [group-0] (Producer-85) shut down complete\n"
     ]
    },
    {
     "name": "stdout",
     "output_type": "stream",
     "text": [
      "[16:16:49] ktz.ipynb - [group-2] (Worker-88) starting up\n"
     ]
    },
    {
     "name": "stdout",
     "output_type": "stream",
     "text": [
      "[16:16:49] ktz.ipynb - [group-2] (Worker-88) running loop\n"
     ]
    },
    {
     "name": "stdout",
     "output_type": "stream",
     "text": [
      "[16:16:49] ktz.ipynb - [group-2] (Worker-89) starting up\n"
     ]
    },
    {
     "name": "stdout",
     "output_type": "stream",
     "text": [
      "[16:16:49] ktz.multiprocessing - relay: waiting for 7 processes to finish\n"
     ]
    },
    {
     "name": "stdout",
     "output_type": "stream",
     "text": [
      "[16:16:49] ktz.ipynb - [group-2] (Worker-89) running loop\n"
     ]
    },
    {
     "name": "stdout",
     "output_type": "stream",
     "text": [
      "[16:16:49] ktz.ipynb - [group-2] (Worker-90) starting up\n"
     ]
    },
    {
     "name": "stdout",
     "output_type": "stream",
     "text": [
      "[16:16:49] ktz.ipynb - [group-2] (Worker-90) running loop\n"
     ]
    },
    {
     "name": "stdout",
     "output_type": "stream",
     "text": [
      "[16:16:49] ktz.ipynb - [group-3] (Consumer-91) starting up\n"
     ]
    },
    {
     "name": "stdout",
     "output_type": "stream",
     "text": [
      "[16:16:49] ktz.ipynb - [group-3] (Consumer-91) running loop\n"
     ]
    },
    {
     "name": "stdout",
     "output_type": "stream",
     "text": [
      "[16:16:50] ktz.ipynb - [group-1] (Worker-87) received 1/1 poison pills\n"
     ]
    },
    {
     "name": "stdout",
     "output_type": "stream",
     "text": [
      "[16:16:50] ktz.ipynb - [group-1] (Worker-87) leaving loop\n"
     ]
    },
    {
     "name": "stdout",
     "output_type": "stream",
     "text": [
      "[16:16:50] ktz.ipynb - [group-1] (Worker-87) shutting down\n"
     ]
    },
    {
     "name": "stdout",
     "output_type": "stream",
     "text": [
      "[16:16:50] ktz.ipynb - [group-1] (Worker-87) shut down complete\n"
     ]
    },
    {
     "name": "stdout",
     "output_type": "stream",
     "text": [
      "[16:16:50] ktz.ipynb - [group-2] (Worker-90) received 1/2 poison pills\n"
     ]
    },
    {
     "name": "stdout",
     "output_type": "stream",
     "text": [
      "[16:16:51] ktz.ipynb - [group-1] (Worker-86) leaving loop\n"
     ]
    },
    {
     "name": "stdout",
     "output_type": "stream",
     "text": [
      "[16:16:51] ktz.ipynb - [group-1] (Worker-86) shutting down\n"
     ]
    },
    {
     "name": "stdout",
     "output_type": "stream",
     "text": [
      "[16:16:51] ktz.ipynb - [group-1] (Worker-86) shut down complete\n"
     ]
    },
    {
     "name": "stdout",
     "output_type": "stream",
     "text": [
      "[16:16:51] ktz.ipynb - [group-2] (Worker-88) received 2/2 poison pills\n"
     ]
    },
    {
     "name": "stdout",
     "output_type": "stream",
     "text": [
      "[16:16:51] ktz.ipynb - [group-2] (Worker-88) leaving loop\n"
     ]
    },
    {
     "name": "stdout",
     "output_type": "stream",
     "text": [
      "[16:16:51] ktz.ipynb - [group-2] (Worker-89) leaving loop\n"
     ]
    },
    {
     "name": "stdout",
     "output_type": "stream",
     "text": [
      "[16:16:51] ktz.ipynb - [group-2] (Worker-89) shutting down\n"
     ]
    },
    {
     "name": "stdout",
     "output_type": "stream",
     "text": [
      "[16:16:51] ktz.ipynb - [group-2] (Worker-89) shut down complete\n"
     ]
    },
    {
     "name": "stdout",
     "output_type": "stream",
     "text": [
      "[16:16:52] ktz.ipynb - [group-2] (Worker-88) shutting down\n"
     ]
    },
    {
     "name": "stdout",
     "output_type": "stream",
     "text": [
      "[16:16:52] ktz.ipynb - [group-2] (Worker-88) shut down complete\n"
     ]
    },
    {
     "name": "stdout",
     "output_type": "stream",
     "text": [
      "[16:16:53] ktz.ipynb - [group-3] (Consumer-91) received 1/3 poison pills\n"
     ]
    },
    {
     "name": "stdout",
     "output_type": "stream",
     "text": [
      "[16:16:53] ktz.ipynb - [group-3] (Consumer-91) received 2/3 poison pills\n"
     ]
    },
    {
     "name": "stdout",
     "output_type": "stream",
     "text": [
      "[16:16:53] ktz.ipynb - [group-2] (Worker-90) leaving loop\n"
     ]
    },
    {
     "name": "stdout",
     "output_type": "stream",
     "text": [
      "[16:16:53] ktz.ipynb - [group-2] (Worker-90) shutting down\n"
     ]
    },
    {
     "name": "stdout",
     "output_type": "stream",
     "text": [
      "[16:16:53] ktz.ipynb - [group-2] (Worker-90) shut down complete\n"
     ]
    },
    {
     "name": "stdout",
     "output_type": "stream",
     "text": [
      "[16:16:54] ktz.ipynb - [group-3] (Consumer-91) received 3/3 poison pills\n"
     ]
    },
    {
     "name": "stdout",
     "output_type": "stream",
     "text": [
      "[16:16:54] ktz.ipynb - [group-3] (Consumer-91) leaving loop\n"
     ]
    },
    {
     "name": "stdout",
     "output_type": "stream",
     "text": [
      "[16:16:54] ktz.ipynb - [group-3] (Consumer-91) shutting down\n"
     ]
    },
    {
     "name": "stdout",
     "output_type": "stream",
     "text": [
      "[16:16:54] ktz.ipynb - [group-3] (Consumer-91) shut down complete\n"
     ]
    },
    {
     "name": "stdout",
     "output_type": "stream",
     "text": [
      "[16:16:54] ktz.multiprocessing - relay: all processes finished\n"
     ]
    },
    {
     "name": "stdout",
     "output_type": "stream",
     "text": [
      "[16:16:54] ktz.multiprocessing - relay: waiting for log thread\n"
     ]
    },
    {
     "name": "stdout",
     "output_type": "stream",
     "text": [
      "[16:16:54] ktz.multiprocessing - relay: log thread finished\n"
     ]
    }
   ],
   "source": [
    "# 1 - n - m - 1\n",
    "\n",
    "relay = Relay(maxsize=2, log=LOG)\n",
    "relay.connect(\n",
    "    Producer(),\n",
    "    [Worker() for _ in range(2)],\n",
    "    [Worker() for _ in range(3)],\n",
    "    Consumer(),\n",
    ")\n",
    "\n",
    "relay.start()"
   ]
  }
 ],
 "metadata": {
  "kernelspec": {
   "argv": [
    "python",
    "-m",
    "ipykernel_launcher",
    "-f",
    "{connection_file}"
   ],
   "display_name": "Python 3",
   "env": null,
   "interrupt_mode": "signal",
   "language": "python",
   "metadata": null,
   "name": "python3"
  },
  "name": "multiprocessing-relay.ipynb"
 },
 "nbformat": 4,
 "nbformat_minor": 5
}
